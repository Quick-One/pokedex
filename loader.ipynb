{
 "cells": [
  {
   "cell_type": "code",
   "execution_count": null,
   "metadata": {},
   "outputs": [],
   "source": [
    "from pathlib import Path\n",
    "from dotenv import load_dotenv\n",
    "from sqlalchemy import create_engine\n",
    "import os\n",
    "import pandas as pd\n",
    "load_dotenv()"
   ]
  },
  {
   "cell_type": "markdown",
   "metadata": {},
   "source": [
    "### Establishing Connection"
   ]
  },
  {
   "cell_type": "code",
   "execution_count": null,
   "metadata": {},
   "outputs": [],
   "source": [
    "host = os.getenv('DB_HOST')\n",
    "user = os.getenv('DB_USER')\n",
    "password = os.getenv('DB_PASSWORD')\n",
    "port = os.getenv('DB_PORT')\n",
    "dbname = os.getenv('DB_NAME')\n",
    "\n",
    "ENGINE = create_engine(f\"mysql+pymysql://{user}:{password}@{host}:{port}/{dbname}\")\n",
    "ENGINE"
   ]
  },
  {
   "cell_type": "code",
   "execution_count": null,
   "metadata": {},
   "outputs": [],
   "source": [
    "def deleteRows(tableName):\n",
    "    with ENGINE.connect() as connection:\n",
    "        connection.execute(f\"DELETE FROM {tableName}\")\n",
    "    \n",
    "def showTable(tableName):\n",
    "    command = f\"SELECT * FROM {tableName}\"\n",
    "    return pd.read_sql(command, ENGINE)\n",
    "\n",
    "def insertData(tableName, data):\n",
    "    with ENGINE.connect() as connection:\n",
    "        data.to_sql(tableName, con=connection, if_exists='append', index=False)"
   ]
  },
  {
   "cell_type": "markdown",
   "metadata": {},
   "source": [
    "### Veryfying the connection"
   ]
  },
  {
   "cell_type": "code",
   "execution_count": null,
   "metadata": {},
   "outputs": [],
   "source": [
    "# show all the tables in the database\n",
    "# restart the kernel after changing the .env file\n",
    "pd.read_sql(\"SHOW TABLES\", ENGINE)"
   ]
  },
  {
   "cell_type": "markdown",
   "metadata": {},
   "source": [
    "### Adding all tables"
   ]
  },
  {
   "cell_type": "code",
   "execution_count": null,
   "metadata": {},
   "outputs": [],
   "source": [
    "dataFolder = Path.cwd()/'pokedex'/'pokedex'/'data'/'csv'"
   ]
  },
  {
   "cell_type": "code",
   "execution_count": null,
   "metadata": {},
   "outputs": [],
   "source": [
    "command = \"ALTER TABLE pokemon_species DROP CONSTRAINT pokemon_species_ibfk_2\"\n",
    "with ENGINE.connect() as connection:\n",
    "    connection.execute(command)\n",
    "\n",
    "deleteRows(\"pokemon_types\")\n",
    "deleteRows(\"pokemon_moves\")\n",
    "deleteRows(\"pokemon\")\n",
    "deleteRows(\"pokemon_species\")\n",
    "deleteRows(\"pokemon_shapes\")\n",
    "deleteRows(\"type_efficacy\")\n",
    "deleteRows(\"pokemon_habitats\")\n",
    "deleteRows(\"pokemon_colors\")\n",
    "deleteRows(\"moves\")\n",
    "deleteRows(\"types\")\n",
    "deleteRows(\"move_damage_classes\")\n",
    "deleteRows(\"generations\")\n",
    "\n",
    "command = \"ALTER TABLE pokemon_species ADD CONSTRAINT pokemon_species_ibfk_2 FOREIGN KEY (evolves_from_species_id) REFERENCES pokemon_species(id)\"\n",
    "with ENGINE.connect() as connection:\n",
    "    connection.execute(command)"
   ]
  },
  {
   "cell_type": "markdown",
   "metadata": {},
   "source": [
    "### 1. generations"
   ]
  },
  {
   "cell_type": "code",
   "execution_count": null,
   "metadata": {},
   "outputs": [],
   "source": [
    "filename = 'generations.csv'\n",
    "drop_cols = ['id']\n",
    "rename_cols = {'main_region_id':'id'}\n",
    "\n",
    "df = pd.read_csv(dataFolder/filename)\n",
    "df = df.drop(drop_cols, axis=1)\n",
    "df = df.rename(columns=rename_cols)\n",
    "\n",
    "df"
   ]
  },
  {
   "cell_type": "code",
   "execution_count": null,
   "metadata": {},
   "outputs": [],
   "source": [
    "insertData('generations', df)"
   ]
  },
  {
   "cell_type": "markdown",
   "metadata": {},
   "source": [
    "### 2. move_damage_classes"
   ]
  },
  {
   "cell_type": "code",
   "execution_count": null,
   "metadata": {},
   "outputs": [],
   "source": [
    "filename = \"move_damage_classes.csv\"\n",
    "\n",
    "df = pd.read_csv(dataFolder/filename)\n",
    "df"
   ]
  },
  {
   "cell_type": "code",
   "execution_count": null,
   "metadata": {},
   "outputs": [],
   "source": [
    "insertData('move_damage_classes', df)"
   ]
  },
  {
   "cell_type": "markdown",
   "metadata": {},
   "source": [
    "### 3. types"
   ]
  },
  {
   "cell_type": "code",
   "execution_count": null,
   "metadata": {},
   "outputs": [],
   "source": [
    "filename = \"types.csv\"\n",
    "drop_cols = [\"generation_id\", \"damage_class_id\"]\n",
    "\n",
    "df = pd.read_csv(dataFolder/filename)\n",
    "df = df.drop(drop_cols, axis=1)\n",
    "df"
   ]
  },
  {
   "cell_type": "code",
   "execution_count": null,
   "metadata": {},
   "outputs": [],
   "source": [
    "insertData('types', df)"
   ]
  },
  {
   "cell_type": "markdown",
   "metadata": {},
   "source": [
    "### 4. moves"
   ]
  },
  {
   "cell_type": "code",
   "execution_count": null,
   "metadata": {},
   "outputs": [],
   "source": [
    "filename = \"moves.csv\"\n",
    "keepcols = [\n",
    "    \"id\",\n",
    "    \"identifier\",\n",
    "    \"generation_id\",\n",
    "    \"type_id\",\n",
    "    \"power\",\n",
    "    \"pp\",\n",
    "    \"accuracy\",\n",
    "    \"priority\",\n",
    "    \"damage_class_id\",\n",
    "]\n",
    "\n",
    "df = pd.read_csv(dataFolder/filename)\n",
    "df = df[keepcols]\n",
    "\n",
    "df"
   ]
  },
  {
   "cell_type": "code",
   "execution_count": null,
   "metadata": {},
   "outputs": [],
   "source": [
    "insertData('moves', df)"
   ]
  },
  {
   "cell_type": "markdown",
   "metadata": {},
   "source": [
    "### 5. pokemon_colors"
   ]
  },
  {
   "cell_type": "code",
   "execution_count": null,
   "metadata": {},
   "outputs": [],
   "source": [
    "filename = \"pokemon_colors.csv\"\n",
    "\n",
    "df = pd.read_csv(dataFolder/filename)\n",
    "df"
   ]
  },
  {
   "cell_type": "code",
   "execution_count": null,
   "metadata": {},
   "outputs": [],
   "source": [
    "insertData('pokemon_colors', df)"
   ]
  },
  {
   "cell_type": "markdown",
   "metadata": {},
   "source": [
    "### 6. pokemon_habitats"
   ]
  },
  {
   "cell_type": "code",
   "execution_count": null,
   "metadata": {},
   "outputs": [],
   "source": [
    "filename = \"pokemon_habitats.csv\"\n",
    "\n",
    "df = pd.read_csv(dataFolder/filename)\n",
    "df"
   ]
  },
  {
   "cell_type": "code",
   "execution_count": null,
   "metadata": {},
   "outputs": [],
   "source": [
    "insertData('pokemon_habitats', df)"
   ]
  },
  {
   "cell_type": "markdown",
   "metadata": {},
   "source": [
    "### 7. type_efficacy"
   ]
  },
  {
   "cell_type": "code",
   "execution_count": null,
   "metadata": {},
   "outputs": [],
   "source": [
    "filename = \"type_efficacy.csv\"\n",
    "\n",
    "df = pd.read_csv(dataFolder/filename)\n",
    "df"
   ]
  },
  {
   "cell_type": "code",
   "execution_count": null,
   "metadata": {},
   "outputs": [],
   "source": [
    "insertData('type_efficacy', df)"
   ]
  },
  {
   "cell_type": "markdown",
   "metadata": {},
   "source": [
    "### 8. pokemon_shapes"
   ]
  },
  {
   "cell_type": "code",
   "execution_count": null,
   "metadata": {},
   "outputs": [],
   "source": [
    "filename = \"pokemon_shapes.csv\"\n",
    "\n",
    "df = pd.read_csv(dataFolder/filename)\n",
    "df"
   ]
  },
  {
   "cell_type": "code",
   "execution_count": null,
   "metadata": {},
   "outputs": [],
   "source": [
    "insertData('pokemon_shapes', df)"
   ]
  },
  {
   "cell_type": "markdown",
   "metadata": {},
   "source": [
    "### 9. pokemon_species"
   ]
  },
  {
   "cell_type": "code",
   "execution_count": null,
   "metadata": {},
   "outputs": [],
   "source": [
    "filename = \"pokemon_species.csv\"\n",
    "keepcols = [\n",
    "    \"id\",\n",
    "    \"identifier\",\n",
    "    \"generation_id\",\n",
    "    \"evolves_from_species_id\",\n",
    "    \"color_id\",\n",
    "    \"shape_id\",\n",
    "    \"habitat_id\",\n",
    "    \"capture_rate\",\n",
    "    \"is_legendary\",\n",
    "    \"is_mythical\",\n",
    "]\n",
    "\n",
    "\n",
    "df = pd.read_csv(dataFolder/filename)\n",
    "df = df[keepcols]\n",
    "\n",
    "# check the types of the columns\n",
    "df.dtypes\n",
    "castCols = ['evolves_from_species_id', 'shape_id', 'habitat_id']\n",
    "for col in castCols:\n",
    "    df[col] = df[col].astype('Int64')\n",
    "\n",
    "df"
   ]
  },
  {
   "cell_type": "code",
   "execution_count": null,
   "metadata": {},
   "outputs": [],
   "source": [
    "while True:\n",
    "    command = \"select count(*) FROM pokemon_species\"\n",
    "    cnt = pd.read_sql(command, ENGINE).values[0][0]\n",
    "    expectedRow = df.shape[0]\n",
    "    if cnt == expectedRow: break\n",
    "    \n",
    "    for index, row in df.iterrows():\n",
    "        with ENGINE.connect() as connection:\n",
    "            poke_id = row['id']\n",
    "            poke_identifier = row['identifier']\n",
    "            generation_id = row['generation_id']\n",
    "            evolves_from_species_id = row['evolves_from_species_id']\n",
    "            color_id = row['color_id']\n",
    "            shape_id = row['shape_id']\n",
    "            habitat_id = row['habitat_id']\n",
    "            capture_rate = row['capture_rate']\n",
    "            is_legendary = row['is_legendary']\n",
    "            problemcols = [\"evolves_from_species_id\", \"shape_id\", \"habitat_id\"]\n",
    "            for col in problemcols:\n",
    "                if pd.isnull(row[col]):\n",
    "                    row[col] = 'NULL'\n",
    "            command = f\"INSERT INTO pokemon_species VALUES ({row['id']}, '{row['identifier']}', {row['generation_id']}, {row['evolves_from_species_id']}, {row['color_id']}, {row['shape_id']}, {row['habitat_id']}, {row['capture_rate']}, {row['is_legendary']}, {row['is_mythical']})\"\n",
    "            try:\n",
    "                connection.execute(command)\n",
    "            except Exception as e:\n",
    "                pass"
   ]
  },
  {
   "cell_type": "markdown",
   "metadata": {},
   "source": [
    "### 10. pokemon"
   ]
  },
  {
   "cell_type": "code",
   "execution_count": null,
   "metadata": {},
   "outputs": [],
   "source": [
    "filename = \"pokemon.csv\"\n",
    "keepCols = [\n",
    "    \"id\",\n",
    "    \"identifier\",\n",
    "    \"species_id\",\n",
    "    \"height\",\n",
    "    \"weight\",\n",
    "    \"base_experience\",\n",
    "]\n",
    "df = pd.read_csv(dataFolder/filename)\n",
    "df = df[keepCols]\n",
    "df\n"
   ]
  },
  {
   "cell_type": "code",
   "execution_count": null,
   "metadata": {},
   "outputs": [],
   "source": [
    "insertData('pokemon', df)"
   ]
  },
  {
   "cell_type": "markdown",
   "metadata": {},
   "source": [
    "### 11. pokemon_moves"
   ]
  },
  {
   "cell_type": "code",
   "execution_count": null,
   "metadata": {},
   "outputs": [],
   "source": [
    "filename = \"pokemon_moves.csv\"\n",
    "keepCols = [\n",
    "    \"pokemon_id\",\n",
    "    \"move_id\",\n",
    "    \"level\",\n",
    "]\n",
    "df = pd.read_csv(dataFolder/filename)\n",
    "df = df[keepCols]\n",
    "df = df.drop_duplicates()\n",
    "df"
   ]
  },
  {
   "cell_type": "code",
   "execution_count": null,
   "metadata": {},
   "outputs": [],
   "source": [
    "insertData('pokemon_moves', df)"
   ]
  },
  {
   "cell_type": "markdown",
   "metadata": {},
   "source": [
    "### 12. pokemon_types"
   ]
  },
  {
   "cell_type": "code",
   "execution_count": null,
   "metadata": {},
   "outputs": [],
   "source": [
    "filename = \"pokemon_types.csv\"\n",
    "keepCols = [\n",
    "    \"pokemon_id\",\n",
    "    \"type_id\",\n",
    "    \"slot\",\n",
    "]\n",
    "\n",
    "df = pd.read_csv(dataFolder/filename)\n",
    "df = df[keepCols]\n",
    "df"
   ]
  },
  {
   "cell_type": "code",
   "execution_count": null,
   "metadata": {},
   "outputs": [],
   "source": [
    "insertData('pokemon_types', df)"
   ]
  }
 ],
 "metadata": {
  "kernelspec": {
   "display_name": "env",
   "language": "python",
   "name": "python3"
  },
  "language_info": {
   "codemirror_mode": {
    "name": "ipython",
    "version": 3
   },
   "file_extension": ".py",
   "mimetype": "text/x-python",
   "name": "python",
   "nbconvert_exporter": "python",
   "pygments_lexer": "ipython3",
   "version": "3.9.13"
  }
 },
 "nbformat": 4,
 "nbformat_minor": 2
}
